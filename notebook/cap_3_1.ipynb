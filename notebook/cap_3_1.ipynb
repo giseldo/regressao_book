{
 "cells": [
  {
   "cell_type": "code",
   "execution_count": 2,
   "id": "56cf9410",
   "metadata": {},
   "outputs": [
    {
     "name": "stdout",
     "output_type": "stream",
     "text": [
      "Requirement already satisfied: numpy in c:\\projetos\\66ce6be17c0eda4c03af6198\\.venv\\lib\\site-packages (2.2.4)\n",
      "Requirement already satisfied: pandas in c:\\projetos\\66ce6be17c0eda4c03af6198\\.venv\\lib\\site-packages (2.2.3)\n",
      "Requirement already satisfied: scikit-learn in c:\\projetos\\66ce6be17c0eda4c03af6198\\.venv\\lib\\site-packages (1.6.1)\n",
      "Requirement already satisfied: python-dateutil>=2.8.2 in c:\\projetos\\66ce6be17c0eda4c03af6198\\.venv\\lib\\site-packages (from pandas) (2.9.0.post0)\n",
      "Requirement already satisfied: pytz>=2020.1 in c:\\projetos\\66ce6be17c0eda4c03af6198\\.venv\\lib\\site-packages (from pandas) (2025.2)\n",
      "Requirement already satisfied: tzdata>=2022.7 in c:\\projetos\\66ce6be17c0eda4c03af6198\\.venv\\lib\\site-packages (from pandas) (2025.2)\n",
      "Requirement already satisfied: scipy>=1.6.0 in c:\\projetos\\66ce6be17c0eda4c03af6198\\.venv\\lib\\site-packages (from scikit-learn) (1.15.2)\n",
      "Requirement already satisfied: joblib>=1.2.0 in c:\\projetos\\66ce6be17c0eda4c03af6198\\.venv\\lib\\site-packages (from scikit-learn) (1.4.2)\n",
      "Requirement already satisfied: threadpoolctl>=3.1.0 in c:\\projetos\\66ce6be17c0eda4c03af6198\\.venv\\lib\\site-packages (from scikit-learn) (3.6.0)\n",
      "Requirement already satisfied: six>=1.5 in c:\\projetos\\66ce6be17c0eda4c03af6198\\.venv\\lib\\site-packages (from python-dateutil>=2.8.2->pandas) (1.17.0)\n"
     ]
    }
   ],
   "source": [
    "!pip install numpy pandas scikit-learn"
   ]
  },
  {
   "cell_type": "code",
   "execution_count": 1,
   "id": "bc879ad2",
   "metadata": {},
   "outputs": [
    {
     "data": {
      "text/plain": [
       "array([ 0.00883089, -0.0153981 ,  0.04264317, -0.38548359, -0.07260697,\n",
       "        0.0427477 ,  0.25790064, -0.06702435, -0.14944263, -0.07826008,\n",
       "        0.14195403,  0.11191871, -0.0724243 ,  0.07915982, -0.00688407,\n",
       "        0.16757466, -0.15545336, -0.06029787, -0.08172151, -0.30894235,\n",
       "        0.07246754,  0.02201893, -0.01513248, -0.05624798, -0.28415563,\n",
       "       -0.05494772, -0.0932012 , -0.15618844, -0.0208011 ,  0.04206227,\n",
       "        0.39008452,  0.00757682,  0.01447264,  0.02934602, -0.33797912,\n",
       "        0.02601388, -0.00296254,  0.4586106 , -0.01857302,  0.0577643 ,\n",
       "       -0.0387396 , -0.23122102,  0.18870752,  0.19098361,  0.13898318,\n",
       "       -0.16397472,  0.26620291, -0.27556677,  0.12462474,  0.41207012,\n",
       "       -0.15196869, -0.08500171,  0.06330233, -0.06143083, -0.29817224,\n",
       "        0.05546398, -0.24734268,  0.06972079, -0.22274522,  0.29688328,\n",
       "       -0.16392921, -0.08247973,  0.19589048, -0.25638697,  0.02830599,\n",
       "        0.26831275, -0.35155724,  0.06767328,  0.01581261,  0.20409418,\n",
       "       -0.21939788, -0.28883772,  0.06187687,  0.09136317,  0.07207815,\n",
       "        0.09330601, -0.10810228,  0.01024026,  0.04855785, -0.17523482,\n",
       "        0.40950204,  0.10906251, -0.25085232,  0.09413598, -0.2093593 ,\n",
       "        0.14429981,  0.25579056, -0.14852932,  0.23123933,  0.08295931,\n",
       "        0.13239005,  0.40192554, -0.02213914, -0.14215442, -0.1500281 ,\n",
       "       -0.16077449, -0.01037186,  0.06452555,  0.01465634,  0.13233854])"
      ]
     },
     "execution_count": 1,
     "metadata": {},
     "output_type": "execute_result"
    }
   ],
   "source": [
    "import numpy as np\n",
    "from sklearn.linear_model import LinearRegression\n",
    "\n",
    "# Geração dos dados aleatórios\n",
    "np.random.seed(42)\n",
    "x = np.random.rand(100)\n",
    "y = 2 * x + 1 + np.random.normal(0, 0.2, 100)\n",
    "\n",
    "# Treino no modelo\n",
    "modelo = LinearRegression()\n",
    "modelo.fit(x.reshape(-1, 1), y)\n",
    "\n",
    "# Previsão e erros\n",
    "erros = y - modelo.predict(x.reshape(-1, 1))\n",
    "erros"
   ]
  },
  {
   "cell_type": "code",
   "execution_count": null,
   "id": "2feef999",
   "metadata": {},
   "outputs": [],
   "source": []
  }
 ],
 "metadata": {
  "kernelspec": {
   "display_name": ".venv",
   "language": "python",
   "name": "python3"
  },
  "language_info": {
   "codemirror_mode": {
    "name": "ipython",
    "version": 3
   },
   "file_extension": ".py",
   "mimetype": "text/x-python",
   "name": "python",
   "nbconvert_exporter": "python",
   "pygments_lexer": "ipython3",
   "version": "3.11.1"
  }
 },
 "nbformat": 4,
 "nbformat_minor": 5
}
